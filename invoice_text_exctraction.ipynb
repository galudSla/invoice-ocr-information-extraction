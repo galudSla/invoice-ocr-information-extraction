{
  "nbformat": 4,
  "nbformat_minor": 0,
  "metadata": {
    "colab": {
      "provenance": [],
      "authorship_tag": "ABX9TyNHGs0FWs7I71KnhaUiwH3Z",
      "include_colab_link": true
    },
    "kernelspec": {
      "name": "python3",
      "display_name": "Python 3"
    },
    "language_info": {
      "name": "python"
    }
  },
  "cells": [
    {
      "cell_type": "markdown",
      "metadata": {
        "id": "view-in-github",
        "colab_type": "text"
      },
      "source": [
        "<a href=\"https://colab.research.google.com/github/galudSla/invoice-ocr-information-extraction/blob/main/invoice_text_exctraction.ipynb\" target=\"_parent\"><img src=\"https://colab.research.google.com/assets/colab-badge.svg\" alt=\"Open In Colab\"/></a>"
      ]
    },
    {
      "cell_type": "code",
      "execution_count": null,
      "metadata": {
        "id": "TAU9oBBt2ahm"
      },
      "outputs": [],
      "source": [
        "!sudo apt install tesseract-ocr"
      ]
    },
    {
      "cell_type": "code",
      "source": [
        "!sudo apt-get install poppler-utils"
      ],
      "metadata": {
        "id": "_CVEZccq3EH3"
      },
      "execution_count": null,
      "outputs": []
    },
    {
      "cell_type": "code",
      "source": [
        "!pip install pytesseract\n",
        "!pip install pdf2image"
      ],
      "metadata": {
        "id": "PVNXxngJ60oD"
      },
      "execution_count": null,
      "outputs": []
    },
    {
      "cell_type": "code",
      "source": [
        "import pytesseract\n",
        "from PIL import Image\n",
        "from pdf2image import convert_from_path\n",
        "import matplotlib.pyplot as plt"
      ],
      "metadata": {
        "id": "EBCLYWWt2kKi"
      },
      "execution_count": 26,
      "outputs": []
    },
    {
      "cell_type": "code",
      "source": [
        "from google.colab import files\n",
        "uploaded = files.upload()"
      ],
      "metadata": {
        "id": "CL2jw24s2nQF"
      },
      "execution_count": null,
      "outputs": []
    },
    {
      "cell_type": "code",
      "source": [
        "pdf_file = 'abc.pdf'\n",
        "pages = convert_from_path(pdf_file)\n",
        "for page in pages:\n",
        "    plt.imshow(page)\n",
        "    plt.show()"
      ],
      "metadata": {
        "id": "YGHHnXzq2hfH"
      },
      "execution_count": null,
      "outputs": []
    },
    {
      "cell_type": "code",
      "source": [
        "for page_number, page in enumerate(pages, start=1):\n",
        "    page = page.convert('RGB')\n",
        "    extracted_text = pytesseract.image_to_string(page, lang='ell')"
      ],
      "metadata": {
        "id": "2fPbHt9z7Cka"
      },
      "execution_count": 28,
      "outputs": []
    },
    {
      "cell_type": "code",
      "source": [
        "print(extracted_text)"
      ],
      "metadata": {
        "id": "CmSLWq4s7HmC"
      },
      "execution_count": null,
      "outputs": []
    }
  ]
}